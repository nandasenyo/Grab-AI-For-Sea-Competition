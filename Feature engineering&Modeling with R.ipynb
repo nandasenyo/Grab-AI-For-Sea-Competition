{
 "cells": [
  {
   "cell_type": "markdown",
   "metadata": {},
   "source": [
    "# Outline:\n",
    "1. Load the library\n",
    "2. Data preparation: \n",
    "Import data , Slicing data , Feature engineering\n",
    "3. Modeling: \n",
    "Undersampling + Random forest , Undersampling + C.50\n",
    "4. Ensemble the model with Mean of Prediction Probability"
   ]
  },
  {
   "cell_type": "markdown",
   "metadata": {},
   "source": [
    "### 1. Load the library"
   ]
  },
  {
   "cell_type": "code",
   "execution_count": 1,
   "metadata": {},
   "outputs": [
    {
     "name": "stderr",
     "output_type": "stream",
     "text": [
      "Loading required package: lubridate\n",
      "\n",
      "Attaching package: 'lubridate'\n",
      "\n",
      "The following object is masked from 'package:base':\n",
      "\n",
      "    date\n",
      "\n",
      "Loading required package: stringr\n",
      "Loading required package: Matrix\n",
      "Loading required package: progress\n",
      "dataPreparation 0.3.8\n",
      "Type dataPrepNews() to see new features/changes/bug fixes.\n",
      "Warning message:\n",
      "\"package 'caret' was built under R version 3.5.3\"Loading required package: lattice\n",
      "Loading required package: ggplot2\n",
      "AUC 0.3.0\n",
      "Type AUCNews() to see the change log and ?AUC to get an overview.\n",
      "\n",
      "Attaching package: 'AUC'\n",
      "\n",
      "The following objects are masked from 'package:caret':\n",
      "\n",
      "    sensitivity, specificity\n",
      "\n",
      "\n",
      "Attaching package: 'data.table'\n",
      "\n",
      "The following objects are masked from 'package:lubridate':\n",
      "\n",
      "    hour, isoweek, mday, minute, month, quarter, second, wday, week,\n",
      "    yday, year\n",
      "\n",
      "Loading required package: grid\n",
      "\n",
      "Attaching package: 'plyr'\n",
      "\n",
      "The following object is masked from 'package:DMwR':\n",
      "\n",
      "    join\n",
      "\n",
      "The following object is masked from 'package:lubridate':\n",
      "\n",
      "    here\n",
      "\n",
      "\n",
      "Attaching package: 'InformationValue'\n",
      "\n",
      "The following objects are masked from 'package:AUC':\n",
      "\n",
      "    sensitivity, specificity\n",
      "\n",
      "The following objects are masked from 'package:caret':\n",
      "\n",
      "    confusionMatrix, precision, sensitivity, specificity\n",
      "\n"
     ]
    }
   ],
   "source": [
    "library(dataPreparation)\n",
    "library(caret)\n",
    "library(AUC)\n",
    "library(data.table)\n",
    "library(ebmc)\n",
    "library(DMwR)\n",
    "library(xgboost)\n",
    "library(plyr)\n",
    "library(InformationValue)\n"
   ]
  },
  {
   "cell_type": "markdown",
   "metadata": {},
   "source": [
    "### 2. Data preparation"
   ]
  },
  {
   "cell_type": "markdown",
   "metadata": {},
   "source": [
    "### 2.1 Import data"
   ]
  },
  {
   "cell_type": "code",
   "execution_count": 2,
   "metadata": {},
   "outputs": [
    {
     "name": "stdout",
     "output_type": "stream",
     "text": [
      "'data.frame':\t20000 obs. of  22 variables:\n",
      " $ label           : int  1 1 1 1 1 1 1 1 1 1 ...\n",
      " $ Accuracy_x      : num  10 13.03 10.23 6.12 4.19 ...\n",
      " $ Bearing_x       : num  249 182 160 124 123 ...\n",
      " $ acceleration_x_x: num  0.1586 -0.2176 0.0173 0.5097 0.2121 ...\n",
      " $ acceleration_y_x: num  -8.01 8.94 -9.72 8.64 9.83 ...\n",
      " $ acceleration_z_x: num  -5.159 -3.094 0.558 4.469 1.347 ...\n",
      " $ gyro_x_x        : num  -0.03937 0.00364 -0.00688 0.00203 0.00368 ...\n",
      " $ gyro_y_x        : num  5.87e-02 -2.19e-02 6.29e-03 3.11e-03 -3.66e-05 ...\n",
      " $ gyro_z_x        : num  0.00274 0.00576 0.02043 0.00191 -0.00225 ...\n",
      " $ second_x        : num  250.9 344.7 599.5 464.7 97.5 ...\n",
      " $ Speed_x         : num  6.02 5.85 16.9 4.19 9.33 ...\n",
      " $ Accuracy_y      : num  10 13.7 10 6 3.9 ...\n",
      " $ Bearing_y       : num  261.5 180.5 114.8 89 84.5 ...\n",
      " $ acceleration_x_y: num  0.156 -0.2673 0.0191 0.4926 0.2696 ...\n",
      " $ acceleration_y_y: num  -8 8.93 -9.76 8.65 9.84 ...\n",
      " $ acceleration_z_y: num  -5.154 -3.203 0.546 4.503 1.273 ...\n",
      " $ gyro_x_y        : num  -0.039348 0.002373 -0.006942 0.000366 0.004791 ...\n",
      " $ gyro_y_y        : num  0.04565 -0.00587 0.00419 -0.00061 0.0027 ...\n",
      " $ gyro_z_y        : num  -0.00821 0.00179 0.01986 0.00032 -0.00311 ...\n",
      " $ second_y        : num  115 344.5 599.5 395 97.5 ...\n",
      " $ Speed_y         : num  5.45 5.7 17.31 1.61 11.08 ...\n",
      " $ Freq            : int  223 474 1200 670 160 711 1518 375 1260 1041 ...\n"
     ]
    }
   ],
   "source": [
    "#import data\n",
    "# df_y + df_x (mean) + df_y (median) + df_freq\n",
    "data.01<-read.csv(\"D:\\\\DATA SCIENTIST\\\\DS-GRAB COMPETITION\\\\safety\\\\df_gabung3.csv\", header = T, sep=\",\")\n",
    "data.01<-data.01[,-c(1,2,25:33)]\n",
    "setnames(data.01, \"Accuracy\", \"Freq\")\n",
    "str(data.01)"
   ]
  },
  {
   "cell_type": "markdown",
   "metadata": {},
   "source": [
    "### 2.2 Slicing data"
   ]
  },
  {
   "cell_type": "code",
   "execution_count": 4,
   "metadata": {},
   "outputs": [],
   "source": [
    "#slicing data\n",
    "set.seed(1000)\n",
    "index = createDataPartition(data.01$label, p = 0.8, list = F )\n",
    "data.train = data.01[index,]\n",
    "data.test = data.01[-index,]"
   ]
  },
  {
   "cell_type": "markdown",
   "metadata": {},
   "source": [
    "### 2.3 Feature engineering"
   ]
  },
  {
   "cell_type": "markdown",
   "metadata": {},
   "source": [
    "#### Discretization"
   ]
  },
  {
   "cell_type": "code",
   "execution_count": 5,
   "metadata": {},
   "outputs": [
    {
     "name": "stdout",
     "output_type": "stream",
     "text": [
      "[1] \"fastDiscretization: I will build splits for 21 numeric columns using, equal_freq method.\"\n",
      "[1] \"equal_freq_splits: Accuracy_y can't provide 10 equal freq bins; instead you will have 7 bins.\"\n",
      "[1] \"fastDiscretization: it took me: 0.04s to build splits for 21 numeric columns.\"\n",
      "[1] \"fastDiscretization: I will discretize 21 numeric columns using, bins.\"\n",
      "[1] \"fastDiscretization: it took me: 2.17s to transform 21 numeric columns into, binarised columns.\"\n",
      "[1] \"fastDiscretization: I will discretize 21 numeric columns using, bins.\"\n",
      "[1] \"fastDiscretization: it took me: 0.54s to transform 21 numeric columns into, binarised columns.\"\n",
      "'data.frame':\t16000 obs. of  21 variables:\n",
      " $ Accuracy_x      : Factor w/ 10 levels \"[10.0425055928412, 13.4186369958275[\",..: 9 1 1 7 4 9 2 3 2 4 ...\n",
      " $ Bearing_x       : Factor w/ 10 levels \"[104.453333333333, 123.386248784476[\",..: 9 6 4 2 1 7 6 2 5 3 ...\n",
      " $ acceleration_x_x: Factor w/ 10 levels \"[-0.0636025189040997, 0.0565739685178363[\",..: 5 3 1 8 6 9 10 2 3 1 ...\n",
      " $ acceleration_y_x: Factor w/ 10 levels \"[-8.77607093641493, 7.56241332586207[\",..: 1 4 10 3 9 1 10 5 1 6 ...\n",
      " $ acceleration_z_x: Factor w/ 10 levels \"[-0.357214644760932, 0.210402011871338[\",..: 10 10 4 8 5 8 1 6 2 6 ...\n",
      " $ gyro_x_x        : Factor w/ 10 levels \"[-0.000427781811845978, 0.000386897664357903[\",..: 10 8 5 7 8 3 4 8 10 1 ...\n",
      " $ gyro_y_x        : Factor w/ 10 levels \"[-0.000502220765905389, 0.00152005343396801[\",..: 9 10 7 6 1 1 3 7 9 3 ...\n",
      " $ gyro_z_x        : Factor w/ 10 levels \"[-0.000231685019058003, 0.000569708124708334[\",..: 7 8 9 7 3 2 3 3 10 2 ...\n",
      " $ second_x        : Factor w/ 10 levels \"[172.393617021277, 251.568181818182[\",..: 1 3 7 5 10 8 2 9 5 9 ...\n",
      " $ Speed_x         : Factor w/ 10 levels \"[10.139604055, 11.9077514592071[\",..: 6 6 3 4 9 7 10 1 10 9 ...\n",
      " $ Accuracy_y      : Factor w/ 7 levels \"[10, +Inf[\",\"[3.9, 4[\",..: 1 1 1 4 2 5 1 2 1 2 ...\n",
      " $ Bearing_y       : Factor w/ 10 levels \"[119, 138[\",\"[138, 167.020698547363[\",..: 6 3 9 8 8 4 5 8 3 9 ...\n",
      " $ acceleration_x_y: Factor w/ 10 levels \"[-0.057, 0.0587234495[\",..: 5 3 1 8 6 9 10 2 7 5 ...\n",
      " $ acceleration_y_y: Factor w/ 10 levels \"[-8.88349304199219, 7.70477625[\",..: 1 4 10 3 9 1 10 5 1 6 ...\n",
      " $ acceleration_z_y: Factor w/ 10 levels \"[-0.356494140625, 0.20590763[\",..: 10 10 4 8 5 8 1 6 1 6 ...\n",
      " $ gyro_x_y        : Factor w/ 10 levels \"[-0.00015707963, 0.00015707963[\",..: 10 8 5 6 8 1 5 6 3 2 ...\n",
      " $ gyro_y_y        : Factor w/ 10 levels \"[-0.00030542165, 0.000104719755[\",..: 9 4 8 2 7 1 6 7 9 2 ...\n",
      " $ gyro_z_y        : Factor w/ 10 levels \"[-0.00040142573, -1.7453292e-05[\",..: 10 7 9 6 4 5 6 3 9 1 ...\n",
      " $ second_y        : Factor w/ 10 levels \"[172, 247[\",\"[247, 314.5[\",..: 10 3 6 4 10 8 1 9 5 9 ...\n",
      " $ Speed_y         : Factor w/ 10 levels \"[1.7420405, 3.04[\",..: 7 7 4 10 2 7 10 9 10 9 ...\n",
      " $ Freq            : Factor w/ 10 levels \"[1010, 1178[\",..: 10 5 2 7 10 3 4 1 9 3 ...\n"
     ]
    }
   ],
   "source": [
    "#discretization with 10 bin using equal freq\n",
    "disk=build_bins(data.train[,-1], cols = 'auto', n_bins = 10, type = 'equal_freq')\n",
    "\n",
    "disk.tr  =as.data.frame(fastDiscretization(dataSet = data.train[,-1], bins = disk))\n",
    "disk.ts  =as.data.frame(fastDiscretization(dataSet = data.test[,-1], bins = disk))\n",
    "str(disk.tr)"
   ]
  },
  {
   "cell_type": "code",
   "execution_count": 8,
   "metadata": {},
   "outputs": [
    {
     "data": {
      "text/html": [
       "0.278944695478009"
      ],
      "text/latex": [
       "0.278944695478009"
      ],
      "text/markdown": [
       "0.278944695478009"
      ],
      "text/plain": [
       "[1] 0.2789447\n",
       "attr(,\"howgood\")\n",
       "[1] \"Highly Predictive\""
      ]
     },
     "metadata": {},
     "output_type": "display_data"
    }
   ],
   "source": [
    "# Information value (IV) of discritize\n",
    "# Discret variable selection using the IV\n",
    "# Do to all the discret variabel\n",
    "IV(X=disk.tr[,21], Y=data.train$label) # IV > 0.02 is somewhat predictive\n",
    "# 4,5,9,10,14,15,19,20,21 are the selected variable "
   ]
  },
  {
   "cell_type": "code",
   "execution_count": 9,
   "metadata": {},
   "outputs": [
    {
     "name": "stdout",
     "output_type": "stream",
     "text": [
      "'data.frame':\t16000 obs. of  9 variables:\n",
      " $ acceleration_y_x: Factor w/ 10 levels \"[-8.77607093641493, 7.56241332586207[\",..: 1 4 10 3 9 1 10 5 1 6 ...\n",
      " $ acceleration_z_x: Factor w/ 10 levels \"[-0.357214644760932, 0.210402011871338[\",..: 10 10 4 8 5 8 1 6 2 6 ...\n",
      " $ second_x        : Factor w/ 10 levels \"[172.393617021277, 251.568181818182[\",..: 1 3 7 5 10 8 2 9 5 9 ...\n",
      " $ Speed_x         : Factor w/ 10 levels \"[10.139604055, 11.9077514592071[\",..: 6 6 3 4 9 7 10 1 10 9 ...\n",
      " $ acceleration_y_y: Factor w/ 10 levels \"[-8.88349304199219, 7.70477625[\",..: 1 4 10 3 9 1 10 5 1 6 ...\n",
      " $ acceleration_z_y: Factor w/ 10 levels \"[-0.356494140625, 0.20590763[\",..: 10 10 4 8 5 8 1 6 1 6 ...\n",
      " $ second_y        : Factor w/ 10 levels \"[172, 247[\",\"[247, 314.5[\",..: 10 3 6 4 10 8 1 9 5 9 ...\n",
      " $ Speed_y         : Factor w/ 10 levels \"[1.7420405, 3.04[\",..: 7 7 4 10 2 7 10 9 10 9 ...\n",
      " $ Freq            : Factor w/ 10 levels \"[1010, 1178[\",..: 10 5 2 7 10 3 4 1 9 3 ...\n"
     ]
    }
   ],
   "source": [
    "#discret variable with IV > 0.02\n",
    "disk.tr=disk.tr[,c(4,5,9,10,14,15,19,20,21)]\n",
    "disk.ts=disk.ts[,c(4,5,9,10,14,15,19,20,21)]\n",
    "str(disk.tr)"
   ]
  },
  {
   "cell_type": "markdown",
   "metadata": {},
   "source": [
    "#### Weight of evidence (woe)"
   ]
  },
  {
   "cell_type": "code",
   "execution_count": 11,
   "metadata": {},
   "outputs": [
    {
     "data": {
      "text/html": [
       "<table>\n",
       "<thead><tr><th scope=col>x.woe.tr</th><th scope=col>x.woe.tr.1</th><th scope=col>x.woe.tr.2</th><th scope=col>x.woe.tr.3</th><th scope=col>x.woe.tr.4</th><th scope=col>x.woe.tr.5</th><th scope=col>x.woe.tr.6</th><th scope=col>x.woe.tr.7</th><th scope=col>x.woe.tr.8</th></tr></thead>\n",
       "<tbody>\n",
       "\t<tr><td> 0.63360195 </td><td> 0.10682545 </td><td>-0.7581961  </td><td> 0.002672915</td><td> 0.56774212 </td><td> 0.10364750 </td><td>-1.18288467 </td><td>-0.08531238 </td><td>-0.7301396  </td></tr>\n",
       "\t<tr><td>-0.15297258 </td><td> 0.10682545 </td><td>-0.3968339  </td><td> 0.002672915</td><td>-0.14573104 </td><td> 0.10364750 </td><td>-0.48096291 </td><td>-0.08531238 </td><td>-0.4847639  </td></tr>\n",
       "\t<tr><td>-0.16469097 </td><td>-0.03698115 </td><td> 0.2869114  </td><td>-0.429516143</td><td>-0.13851848 </td><td>-0.06790996 </td><td> 0.03931769 </td><td>-0.52215589 </td><td> 0.4737330  </td></tr>\n",
       "\t<tr><td> 0.04234664 </td><td>-0.02421997 </td><td>-0.1214202  </td><td>-0.024219970</td><td> 0.06189868 </td><td>-0.04805819 </td><td>-0.20260452 </td><td> 0.54819611 </td><td>-0.3460039  </td></tr>\n",
       "\t<tr><td>-0.02504676 </td><td>-0.19413144 </td><td>-1.3377257  </td><td> 0.058652765</td><td>-0.03522525 </td><td>-0.11705106 </td><td>-1.18288467 </td><td> 0.05865277 </td><td>-0.7301396  </td></tr>\n",
       "\t<tr><td> 0.63360195 </td><td>-0.02421997 </td><td> 0.6071070  </td><td>-0.193335580</td><td> 0.56774212 </td><td>-0.04805819 </td><td> 0.59707439 </td><td>-0.08531238 </td><td> 1.1058659  </td></tr>\n",
       "</tbody>\n",
       "</table>\n"
      ],
      "text/latex": [
       "\\begin{tabular}{r|lllllllll}\n",
       " x.woe.tr & x.woe.tr.1 & x.woe.tr.2 & x.woe.tr.3 & x.woe.tr.4 & x.woe.tr.5 & x.woe.tr.6 & x.woe.tr.7 & x.woe.tr.8\\\\\n",
       "\\hline\n",
       "\t  0.63360195  &  0.10682545  & -0.7581961   &  0.002672915 &  0.56774212  &  0.10364750  & -1.18288467  & -0.08531238  & -0.7301396  \\\\\n",
       "\t -0.15297258  &  0.10682545  & -0.3968339   &  0.002672915 & -0.14573104  &  0.10364750  & -0.48096291  & -0.08531238  & -0.4847639  \\\\\n",
       "\t -0.16469097  & -0.03698115  &  0.2869114   & -0.429516143 & -0.13851848  & -0.06790996  &  0.03931769  & -0.52215589  &  0.4737330  \\\\\n",
       "\t  0.04234664  & -0.02421997  & -0.1214202   & -0.024219970 &  0.06189868  & -0.04805819  & -0.20260452  &  0.54819611  & -0.3460039  \\\\\n",
       "\t -0.02504676  & -0.19413144  & -1.3377257   &  0.058652765 & -0.03522525  & -0.11705106  & -1.18288467  &  0.05865277  & -0.7301396  \\\\\n",
       "\t  0.63360195  & -0.02421997  &  0.6071070   & -0.193335580 &  0.56774212  & -0.04805819  &  0.59707439  & -0.08531238  &  1.1058659  \\\\\n",
       "\\end{tabular}\n"
      ],
      "text/markdown": [
       "\n",
       "x.woe.tr | x.woe.tr.1 | x.woe.tr.2 | x.woe.tr.3 | x.woe.tr.4 | x.woe.tr.5 | x.woe.tr.6 | x.woe.tr.7 | x.woe.tr.8 | \n",
       "|---|---|---|---|---|---|\n",
       "|  0.63360195  |  0.10682545  | -0.7581961   |  0.002672915 |  0.56774212  |  0.10364750  | -1.18288467  | -0.08531238  | -0.7301396   | \n",
       "| -0.15297258  |  0.10682545  | -0.3968339   |  0.002672915 | -0.14573104  |  0.10364750  | -0.48096291  | -0.08531238  | -0.4847639   | \n",
       "| -0.16469097  | -0.03698115  |  0.2869114   | -0.429516143 | -0.13851848  | -0.06790996  |  0.03931769  | -0.52215589  |  0.4737330   | \n",
       "|  0.04234664  | -0.02421997  | -0.1214202   | -0.024219970 |  0.06189868  | -0.04805819  | -0.20260452  |  0.54819611  | -0.3460039   | \n",
       "| -0.02504676  | -0.19413144  | -1.3377257   |  0.058652765 | -0.03522525  | -0.11705106  | -1.18288467  |  0.05865277  | -0.7301396   | \n",
       "|  0.63360195  | -0.02421997  |  0.6071070   | -0.193335580 |  0.56774212  | -0.04805819  |  0.59707439  | -0.08531238  |  1.1058659   | \n",
       "\n",
       "\n"
      ],
      "text/plain": [
       "  x.woe.tr    x.woe.tr.1  x.woe.tr.2 x.woe.tr.3   x.woe.tr.4  x.woe.tr.5 \n",
       "1  0.63360195  0.10682545 -0.7581961  0.002672915  0.56774212  0.10364750\n",
       "2 -0.15297258  0.10682545 -0.3968339  0.002672915 -0.14573104  0.10364750\n",
       "3 -0.16469097 -0.03698115  0.2869114 -0.429516143 -0.13851848 -0.06790996\n",
       "4  0.04234664 -0.02421997 -0.1214202 -0.024219970  0.06189868 -0.04805819\n",
       "5 -0.02504676 -0.19413144 -1.3377257  0.058652765 -0.03522525 -0.11705106\n",
       "6  0.63360195 -0.02421997  0.6071070 -0.193335580  0.56774212 -0.04805819\n",
       "  x.woe.tr.6  x.woe.tr.7  x.woe.tr.8\n",
       "1 -1.18288467 -0.08531238 -0.7301396\n",
       "2 -0.48096291 -0.08531238 -0.4847639\n",
       "3  0.03931769 -0.52215589  0.4737330\n",
       "4 -0.20260452  0.54819611 -0.3460039\n",
       "5 -1.18288467  0.05865277 -0.7301396\n",
       "6  0.59707439 -0.08531238  1.1058659"
      ]
     },
     "metadata": {},
     "output_type": "display_data"
    }
   ],
   "source": [
    "# Transform the discret variable to woe variable\n",
    "x.woe.tr <- NULL\n",
    "koln.tr <- NULL\n",
    "for (i in 1:9) {\n",
    "x.woe.tr <- WOE(X=disk.tr[,i], Y=data.train$label)\n",
    "koln.tr <- cbind(koln.tr,x.woe.tr)\n",
    "}\n",
    "koln.tr=data.frame(koln.tr)\n",
    "head(koln.tr)"
   ]
  },
  {
   "cell_type": "code",
   "execution_count": 12,
   "metadata": {},
   "outputs": [
    {
     "data": {
      "text/html": [
       "<table>\n",
       "<thead><tr><th scope=col>x.woe.tr</th><th scope=col>x.woe.tr.1</th><th scope=col>x.woe.tr.2</th><th scope=col>x.woe.tr.3</th><th scope=col>x.woe.tr.4</th><th scope=col>x.woe.tr.5</th><th scope=col>x.woe.tr.6</th><th scope=col>x.woe.tr.7</th><th scope=col>x.woe.tr.8</th></tr></thead>\n",
       "<tbody>\n",
       "\t<tr><td>158.963057 </td><td> 26.80121  </td><td>-190.22221 </td><td>   0.670602</td><td>142.439624 </td><td> 26.00390  </td><td>-296.77144 </td><td> -21.403842</td><td>-183.18318 </td></tr>\n",
       "\t<tr><td>-52.728743 </td><td> 36.82210  </td><td>-136.78629 </td><td>   0.921338</td><td>-50.232629 </td><td> 35.72668  </td><td>-165.78508 </td><td> -29.406672</td><td>-167.09526 </td></tr>\n",
       "\t<tr><td>-98.732234 </td><td>-22.17020  </td><td> 172.00339 </td><td>-257.494928</td><td>-83.041828 </td><td>-40.71202  </td><td>  23.57095 </td><td>-313.032455</td><td> 284.00292 </td></tr>\n",
       "\t<tr><td> 19.679684 </td><td>-11.25571  </td><td> -56.42742 </td><td> -11.255707</td><td> 28.766071 </td><td>-22.33400  </td><td> -94.15606 </td><td> 254.762278</td><td>-160.79782 </td></tr>\n",
       "\t<tr><td> -2.441746 </td><td>-18.92539  </td><td>-130.41154 </td><td>   5.717911</td><td> -3.434021 </td><td>-11.41102  </td><td>-115.31647 </td><td>   5.717911</td><td> -71.17948 </td></tr>\n",
       "\t<tr><td>513.512674 </td><td>-19.62946  </td><td> 492.03946 </td><td>-156.691864</td><td>460.135539 </td><td>-38.94952  </td><td> 483.90834 </td><td> -69.142759</td><td> 896.26641 </td></tr>\n",
       "</tbody>\n",
       "</table>\n"
      ],
      "text/latex": [
       "\\begin{tabular}{r|lllllllll}\n",
       " x.woe.tr & x.woe.tr.1 & x.woe.tr.2 & x.woe.tr.3 & x.woe.tr.4 & x.woe.tr.5 & x.woe.tr.6 & x.woe.tr.7 & x.woe.tr.8\\\\\n",
       "\\hline\n",
       "\t 158.963057  &  26.80121   & -190.22221  &    0.670602 & 142.439624  &  26.00390   & -296.77144  &  -21.403842 & -183.18318 \\\\\n",
       "\t -52.728743  &  36.82210   & -136.78629  &    0.921338 & -50.232629  &  35.72668   & -165.78508  &  -29.406672 & -167.09526 \\\\\n",
       "\t -98.732234  & -22.17020   &  172.00339  & -257.494928 & -83.041828  & -40.71202   &   23.57095  & -313.032455 &  284.00292 \\\\\n",
       "\t  19.679684  & -11.25571   &  -56.42742  &  -11.255707 &  28.766071  & -22.33400   &  -94.15606  &  254.762278 & -160.79782 \\\\\n",
       "\t  -2.441746  & -18.92539   & -130.41154  &    5.717911 &  -3.434021  & -11.41102   & -115.31647  &    5.717911 &  -71.17948 \\\\\n",
       "\t 513.512674  & -19.62946   &  492.03946  & -156.691864 & 460.135539  & -38.94952   &  483.90834  &  -69.142759 &  896.26641 \\\\\n",
       "\\end{tabular}\n"
      ],
      "text/markdown": [
       "\n",
       "x.woe.tr | x.woe.tr.1 | x.woe.tr.2 | x.woe.tr.3 | x.woe.tr.4 | x.woe.tr.5 | x.woe.tr.6 | x.woe.tr.7 | x.woe.tr.8 | \n",
       "|---|---|---|---|---|---|\n",
       "| 158.963057  |  26.80121   | -190.22221  |    0.670602 | 142.439624  |  26.00390   | -296.77144  |  -21.403842 | -183.18318  | \n",
       "| -52.728743  |  36.82210   | -136.78629  |    0.921338 | -50.232629  |  35.72668   | -165.78508  |  -29.406672 | -167.09526  | \n",
       "| -98.732234  | -22.17020   |  172.00339  | -257.494928 | -83.041828  | -40.71202   |   23.57095  | -313.032455 |  284.00292  | \n",
       "|  19.679684  | -11.25571   |  -56.42742  |  -11.255707 |  28.766071  | -22.33400   |  -94.15606  |  254.762278 | -160.79782  | \n",
       "|  -2.441746  | -18.92539   | -130.41154  |    5.717911 |  -3.434021  | -11.41102   | -115.31647  |    5.717911 |  -71.17948  | \n",
       "| 513.512674  | -19.62946   |  492.03946  | -156.691864 | 460.135539  | -38.94952   |  483.90834  |  -69.142759 |  896.26641  | \n",
       "\n",
       "\n"
      ],
      "text/plain": [
       "  x.woe.tr   x.woe.tr.1 x.woe.tr.2 x.woe.tr.3  x.woe.tr.4 x.woe.tr.5 x.woe.tr.6\n",
       "1 158.963057  26.80121  -190.22221    0.670602 142.439624  26.00390  -296.77144\n",
       "2 -52.728743  36.82210  -136.78629    0.921338 -50.232629  35.72668  -165.78508\n",
       "3 -98.732234 -22.17020   172.00339 -257.494928 -83.041828 -40.71202    23.57095\n",
       "4  19.679684 -11.25571   -56.42742  -11.255707  28.766071 -22.33400   -94.15606\n",
       "5  -2.441746 -18.92539  -130.41154    5.717911  -3.434021 -11.41102  -115.31647\n",
       "6 513.512674 -19.62946   492.03946 -156.691864 460.135539 -38.94952   483.90834\n",
       "  x.woe.tr.7  x.woe.tr.8\n",
       "1  -21.403842 -183.18318\n",
       "2  -29.406672 -167.09526\n",
       "3 -313.032455  284.00292\n",
       "4  254.762278 -160.79782\n",
       "5    5.717911  -71.17948\n",
       "6  -69.142759  896.26641"
      ]
     },
     "metadata": {},
     "output_type": "display_data"
    }
   ],
   "source": [
    "# Multiply the woe variable with 'second' as the most importance variable to increase the importance of the woe variable\n",
    "koln.tr=koln.tr*data.train$second_x\n",
    "head(koln.tr)"
   ]
  },
  {
   "cell_type": "code",
   "execution_count": 13,
   "metadata": {},
   "outputs": [
    {
     "data": {
      "text/html": [
       "<table>\n",
       "<thead><tr><th scope=col>x.woe.tr</th><th scope=col>x.woe.tr.1</th><th scope=col>x.woe.tr.2</th><th scope=col>x.woe.tr.3</th><th scope=col>x.woe.tr.4</th><th scope=col>x.woe.tr.5</th><th scope=col>x.woe.tr.6</th><th scope=col>x.woe.tr.7</th><th scope=col>x.woe.tr.8</th></tr></thead>\n",
       "<tbody>\n",
       "\t<tr><td>-0.2355390529</td><td>-0.28150677  </td><td>-0.1392885   </td><td> 0.03544939  </td><td>-0.26754210  </td><td>-0.37431008  </td><td> 0.1387972   </td><td>-0.008535909 </td><td>-0.20522664  </td></tr>\n",
       "\t<tr><td>-0.3097274077</td><td>-0.03941034  </td><td> 0.2655144   </td><td> 0.03468516  </td><td>-0.28875975  </td><td>-0.07924245  </td><td> 0.3685481   </td><td> 0.002995649 </td><td> 0.53558276  </td></tr>\n",
       "\t<tr><td>-0.2355390529</td><td>-0.18460297  </td><td> 0.6034334   </td><td>-0.14603993  </td><td>-0.26754210  </td><td>-0.13173984  </td><td> 0.5489126   </td><td> 0.043174350 </td><td> 0.53558276  </td></tr>\n",
       "\t<tr><td> 0.0424834203</td><td>-0.03941034  </td><td>-0.2267546   </td><td> 0.49682370  </td><td> 0.02268079  </td><td>-0.07924245  </td><td>-0.3259294   </td><td> 0.607934564 </td><td>-0.45572002  </td></tr>\n",
       "\t<tr><td> 0.1626661218</td><td> 0.44201546  </td><td> 0.1665361   </td><td> 0.03468516  </td><td> 0.16092705  </td><td> 0.45711009  </td><td> 0.1387972   </td><td> 0.015391957 </td><td> 0.30556633  </td></tr>\n",
       "\t<tr><td> 0.0005142579</td><td>-0.11614701  </td><td>-0.2267546   </td><td>-0.13502006  </td><td>-0.02891355  </td><td>-0.03733343  </td><td>-0.3259294   </td><td> 0.015391957 </td><td> 0.01616611  </td></tr>\n",
       "</tbody>\n",
       "</table>\n"
      ],
      "text/latex": [
       "\\begin{tabular}{r|lllllllll}\n",
       " x.woe.tr & x.woe.tr.1 & x.woe.tr.2 & x.woe.tr.3 & x.woe.tr.4 & x.woe.tr.5 & x.woe.tr.6 & x.woe.tr.7 & x.woe.tr.8\\\\\n",
       "\\hline\n",
       "\t -0.2355390529 & -0.28150677   & -0.1392885    &  0.03544939   & -0.26754210   & -0.37431008   &  0.1387972    & -0.008535909  & -0.20522664  \\\\\n",
       "\t -0.3097274077 & -0.03941034   &  0.2655144    &  0.03468516   & -0.28875975   & -0.07924245   &  0.3685481    &  0.002995649  &  0.53558276  \\\\\n",
       "\t -0.2355390529 & -0.18460297   &  0.6034334    & -0.14603993   & -0.26754210   & -0.13173984   &  0.5489126    &  0.043174350  &  0.53558276  \\\\\n",
       "\t  0.0424834203 & -0.03941034   & -0.2267546    &  0.49682370   &  0.02268079   & -0.07924245   & -0.3259294    &  0.607934564  & -0.45572002  \\\\\n",
       "\t  0.1626661218 &  0.44201546   &  0.1665361    &  0.03468516   &  0.16092705   &  0.45711009   &  0.1387972    &  0.015391957  &  0.30556633  \\\\\n",
       "\t  0.0005142579 & -0.11614701   & -0.2267546    & -0.13502006   & -0.02891355   & -0.03733343   & -0.3259294    &  0.015391957  &  0.01616611  \\\\\n",
       "\\end{tabular}\n"
      ],
      "text/markdown": [
       "\n",
       "x.woe.tr | x.woe.tr.1 | x.woe.tr.2 | x.woe.tr.3 | x.woe.tr.4 | x.woe.tr.5 | x.woe.tr.6 | x.woe.tr.7 | x.woe.tr.8 | \n",
       "|---|---|---|---|---|---|\n",
       "| -0.2355390529 | -0.28150677   | -0.1392885    |  0.03544939   | -0.26754210   | -0.37431008   |  0.1387972    | -0.008535909  | -0.20522664   | \n",
       "| -0.3097274077 | -0.03941034   |  0.2655144    |  0.03468516   | -0.28875975   | -0.07924245   |  0.3685481    |  0.002995649  |  0.53558276   | \n",
       "| -0.2355390529 | -0.18460297   |  0.6034334    | -0.14603993   | -0.26754210   | -0.13173984   |  0.5489126    |  0.043174350  |  0.53558276   | \n",
       "|  0.0424834203 | -0.03941034   | -0.2267546    |  0.49682370   |  0.02268079   | -0.07924245   | -0.3259294    |  0.607934564  | -0.45572002   | \n",
       "|  0.1626661218 |  0.44201546   |  0.1665361    |  0.03468516   |  0.16092705   |  0.45711009   |  0.1387972    |  0.015391957  |  0.30556633   | \n",
       "|  0.0005142579 | -0.11614701   | -0.2267546    | -0.13502006   | -0.02891355   | -0.03733343   | -0.3259294    |  0.015391957  |  0.01616611   | \n",
       "\n",
       "\n"
      ],
      "text/plain": [
       "  x.woe.tr      x.woe.tr.1  x.woe.tr.2 x.woe.tr.3  x.woe.tr.4  x.woe.tr.5 \n",
       "1 -0.2355390529 -0.28150677 -0.1392885  0.03544939 -0.26754210 -0.37431008\n",
       "2 -0.3097274077 -0.03941034  0.2655144  0.03468516 -0.28875975 -0.07924245\n",
       "3 -0.2355390529 -0.18460297  0.6034334 -0.14603993 -0.26754210 -0.13173984\n",
       "4  0.0424834203 -0.03941034 -0.2267546  0.49682370  0.02268079 -0.07924245\n",
       "5  0.1626661218  0.44201546  0.1665361  0.03468516  0.16092705  0.45711009\n",
       "6  0.0005142579 -0.11614701 -0.2267546 -0.13502006 -0.02891355 -0.03733343\n",
       "  x.woe.tr.6 x.woe.tr.7   x.woe.tr.8 \n",
       "1  0.1387972 -0.008535909 -0.20522664\n",
       "2  0.3685481  0.002995649  0.53558276\n",
       "3  0.5489126  0.043174350  0.53558276\n",
       "4 -0.3259294  0.607934564 -0.45572002\n",
       "5  0.1387972  0.015391957  0.30556633\n",
       "6 -0.3259294  0.015391957  0.01616611"
      ]
     },
     "metadata": {},
     "output_type": "display_data"
    }
   ],
   "source": [
    "x.woe.ts <- NULL\n",
    "koln.ts <- NULL\n",
    "for (i in 1:9) {\n",
    "x.woe.tr <- WOE(X=disk.ts[,i], Y=data.test$label)\n",
    "koln.ts <- cbind(koln.ts,x.woe.tr)\n",
    "}\n",
    "koln.ts=data.frame(koln.ts)\n",
    "head(koln.ts)"
   ]
  },
  {
   "cell_type": "code",
   "execution_count": 14,
   "metadata": {},
   "outputs": [
    {
     "data": {
      "text/html": [
       "<table>\n",
       "<thead><tr><th scope=col>x.woe.tr</th><th scope=col>x.woe.tr.1</th><th scope=col>x.woe.tr.2</th><th scope=col>x.woe.tr.3</th><th scope=col>x.woe.tr.4</th><th scope=col>x.woe.tr.5</th><th scope=col>x.woe.tr.6</th><th scope=col>x.woe.tr.7</th><th scope=col>x.woe.tr.8</th></tr></thead>\n",
       "<tbody>\n",
       "\t<tr><td>-118.9031617</td><td>-142.10826  </td><td>-70.31465   </td><td>  17.89531  </td><td>-135.058716 </td><td>-188.95657  </td><td>  70.06662  </td><td> -4.309037  </td><td>-103.601062 </td></tr>\n",
       "\t<tr><td>-195.2401128</td><td> -24.84275  </td><td>167.36993   </td><td>  21.86418  </td><td>-182.022916 </td><td> -49.95136  </td><td> 232.31837  </td><td>  1.888340  </td><td> 337.610546 </td></tr>\n",
       "\t<tr><td>-169.9012127</td><td>-133.15952  </td><td>435.27420   </td><td>-105.34288  </td><td>-192.985950 </td><td> -95.02780  </td><td> 395.94672  </td><td> 31.142922  </td><td> 386.331523 </td></tr>\n",
       "\t<tr><td>  13.5711842</td><td> -12.58950  </td><td>-72.43599   </td><td> 158.70864  </td><td>   7.245302 </td><td> -25.31373  </td><td>-104.11703  </td><td>194.202631  </td><td>-145.578212 </td></tr>\n",
       "\t<tr><td>  85.6945956</td><td> 232.85940  </td><td> 87.73333   </td><td>  18.27259  </td><td>  84.778431 </td><td> 240.81145  </td><td>  73.12014  </td><td>  8.108680  </td><td> 160.976257 </td></tr>\n",
       "\t<tr><td>   0.1925896</td><td> -43.49705  </td><td>-84.91960   </td><td> -50.56501  </td><td> -10.828125 </td><td> -13.98137  </td><td>-122.06055  </td><td>  5.764288  </td><td>   6.054209 </td></tr>\n",
       "</tbody>\n",
       "</table>\n"
      ],
      "text/latex": [
       "\\begin{tabular}{r|lllllllll}\n",
       " x.woe.tr & x.woe.tr.1 & x.woe.tr.2 & x.woe.tr.3 & x.woe.tr.4 & x.woe.tr.5 & x.woe.tr.6 & x.woe.tr.7 & x.woe.tr.8\\\\\n",
       "\\hline\n",
       "\t -118.9031617 & -142.10826   & -70.31465    &   17.89531   & -135.058716  & -188.95657   &   70.06662   &  -4.309037   & -103.601062 \\\\\n",
       "\t -195.2401128 &  -24.84275   & 167.36993    &   21.86418   & -182.022916  &  -49.95136   &  232.31837   &   1.888340   &  337.610546 \\\\\n",
       "\t -169.9012127 & -133.15952   & 435.27420    & -105.34288   & -192.985950  &  -95.02780   &  395.94672   &  31.142922   &  386.331523 \\\\\n",
       "\t   13.5711842 &  -12.58950   & -72.43599    &  158.70864   &    7.245302  &  -25.31373   & -104.11703   & 194.202631   & -145.578212 \\\\\n",
       "\t   85.6945956 &  232.85940   &  87.73333    &   18.27259   &   84.778431  &  240.81145   &   73.12014   &   8.108680   &  160.976257 \\\\\n",
       "\t    0.1925896 &  -43.49705   & -84.91960    &  -50.56501   &  -10.828125  &  -13.98137   & -122.06055   &   5.764288   &    6.054209 \\\\\n",
       "\\end{tabular}\n"
      ],
      "text/markdown": [
       "\n",
       "x.woe.tr | x.woe.tr.1 | x.woe.tr.2 | x.woe.tr.3 | x.woe.tr.4 | x.woe.tr.5 | x.woe.tr.6 | x.woe.tr.7 | x.woe.tr.8 | \n",
       "|---|---|---|---|---|---|\n",
       "| -118.9031617 | -142.10826   | -70.31465    |   17.89531   | -135.058716  | -188.95657   |   70.06662   |  -4.309037   | -103.601062  | \n",
       "| -195.2401128 |  -24.84275   | 167.36993    |   21.86418   | -182.022916  |  -49.95136   |  232.31837   |   1.888340   |  337.610546  | \n",
       "| -169.9012127 | -133.15952   | 435.27420    | -105.34288   | -192.985950  |  -95.02780   |  395.94672   |  31.142922   |  386.331523  | \n",
       "|   13.5711842 |  -12.58950   | -72.43599    |  158.70864   |    7.245302  |  -25.31373   | -104.11703   | 194.202631   | -145.578212  | \n",
       "|   85.6945956 |  232.85940   |  87.73333    |   18.27259   |   84.778431  |  240.81145   |   73.12014   |   8.108680   |  160.976257  | \n",
       "|    0.1925896 |  -43.49705   | -84.91960    |  -50.56501   |  -10.828125  |  -13.98137   | -122.06055   |   5.764288   |    6.054209  | \n",
       "\n",
       "\n"
      ],
      "text/plain": [
       "  x.woe.tr     x.woe.tr.1 x.woe.tr.2 x.woe.tr.3 x.woe.tr.4  x.woe.tr.5\n",
       "1 -118.9031617 -142.10826 -70.31465    17.89531 -135.058716 -188.95657\n",
       "2 -195.2401128  -24.84275 167.36993    21.86418 -182.022916  -49.95136\n",
       "3 -169.9012127 -133.15952 435.27420  -105.34288 -192.985950  -95.02780\n",
       "4   13.5711842  -12.58950 -72.43599   158.70864    7.245302  -25.31373\n",
       "5   85.6945956  232.85940  87.73333    18.27259   84.778431  240.81145\n",
       "6    0.1925896  -43.49705 -84.91960   -50.56501  -10.828125  -13.98137\n",
       "  x.woe.tr.6 x.woe.tr.7 x.woe.tr.8 \n",
       "1   70.06662  -4.309037 -103.601062\n",
       "2  232.31837   1.888340  337.610546\n",
       "3  395.94672  31.142922  386.331523\n",
       "4 -104.11703 194.202631 -145.578212\n",
       "5   73.12014   8.108680  160.976257\n",
       "6 -122.06055   5.764288    6.054209"
      ]
     },
     "metadata": {},
     "output_type": "display_data"
    }
   ],
   "source": [
    "koln.ts=koln.ts*data.test$second_x\n",
    "head(koln.ts)"
   ]
  },
  {
   "cell_type": "markdown",
   "metadata": {},
   "source": [
    "#### All variable (except 'label') * freq"
   ]
  },
  {
   "cell_type": "code",
   "execution_count": 15,
   "metadata": {},
   "outputs": [
    {
     "name": "stdout",
     "output_type": "stream",
     "text": [
      "'data.frame':\t4000 obs. of  31 variables:\n",
      " $ Accuracy_x      : num  4029 6805 4800 2446 3702 ...\n",
      " $ Bearing_x       : num  117880 276151 176789 92839 131145 ...\n",
      " $ acceleration_x_x: num  81.4 1180.1 106.7 317.3 738.4 ...\n",
      " $ acceleration_y_x: num  6912 12218 12053 5924 8469 ...\n",
      " $ acceleration_z_x: num  -127 1805 641 1089 5951 ...\n",
      " $ gyro_x_x        : num  2.105 1.425 5.177 5.516 0.647 ...\n",
      " $ gyro_y_x        : num  -2.95 4.23 56.64 -5.67 4.93 ...\n",
      " $ gyro_z_x        : num  -0.0511 -2.0028 2.364 2.0613 2.8667 ...\n",
      " $ second_x        : num  358922 794255 887235 197418 543144 ...\n",
      " $ Speed_x         : num  9829 8878 6956 2113 6862 ...\n",
      " $ Accuracy_y      : num  2773 4914 4797 2280 4021 ...\n",
      " $ Bearing_y       : num  140067 278460 97170 61182 69077 ...\n",
      " $ acceleration_x_y: num  19.2 1194.6 168.9 323.3 825.6 ...\n",
      " $ acceleration_y_y: num  6929 12239 12058 5925 8486 ...\n",
      " $ acceleration_z_y: num  -91.7 1837.2 628.8 1073.5 5952.6 ...\n",
      " $ gyro_x_y        : num  2.408 2.271 1.26 2.768 0.755 ...\n",
      " $ gyro_y_y        : num  -0.209 2.962 1.076 0.283 1.62 ...\n",
      " $ gyro_z_y        : num  -0.198 -1.334 0.373 0.798 0.692 ...\n",
      " $ second_y        : num  391050 794430 903435 195597 542306 ...\n",
      " $ Speed_y         : num  10217 6731 4176 0 7207 ...\n",
      " $ Freq            : int  505521 1587600 1512900 381924 1062961 562500 492804 139876 4813636 241081 ...\n",
      " $ x.woe.tr        : num  -84540 -246003 -208978 8387 88351 ...\n",
      " $ x.woe.tr.1      : num  -101039 -31302 -163786 -7780 240078 ...\n",
      " $ x.woe.tr.2      : num  -49994 210886 535387 -44765 90453 ...\n",
      " $ x.woe.tr.3      : num  12724 27549 -129572 98082 18839 ...\n",
      " $ x.woe.tr.4      : num  -96027 -229349 -237373 4478 87407 ...\n",
      " $ x.woe.tr.5      : num  -134348 -62939 -116884 -15644 248277 ...\n",
      " $ x.woe.tr.6      : num  49817 292721 487014 -64344 75387 ...\n",
      " $ x.woe.tr.7      : num  -3064 2379 38306 120017 8360 ...\n",
      " $ x.woe.tr.8      : num  -73660 425389 475188 -89967 165967 ...\n",
      " $ label           : int  1 1 1 1 1 1 1 1 1 1 ...\n"
     ]
    }
   ],
   "source": [
    "# Multiply all variable (except 'label') with 'freq' to increase the importance \n",
    "data.ready.tr=data.frame(data.train[,-1], koln.tr)*data.train$Freq\n",
    "data.ready.ts=data.frame(data.test[,-1],koln.ts)*data.test$Freq\n",
    "\n",
    "# Add the 'label'\n",
    "data.ready.tr$label=data.train[,1]\n",
    "data.ready.ts$label=data.test[,1]\n",
    "str(data.ready.ts)"
   ]
  },
  {
   "cell_type": "markdown",
   "metadata": {},
   "source": [
    "#### Add the new variable"
   ]
  },
  {
   "cell_type": "code",
   "execution_count": 16,
   "metadata": {},
   "outputs": [],
   "source": [
    "# Add the new variable to increase the AUC\n",
    "data.ready.tr$axm_x=data.ready.tr$acceleration_x_x*data.ready.tr$second_x\n",
    "data.ready.tr$aym_x=data.ready.tr$acceleration_y_x*data.ready.tr$second_x\n",
    "data.ready.tr$azm_x=data.ready.tr$acceleration_z_x*data.ready.tr$second_x\n",
    "data.ready.tr$gxm_x=data.ready.tr$gyro_x_x*data.ready.tr$second_x\n",
    "data.ready.tr$gym_x=data.ready.tr$gyro_y_x*data.ready.tr$second_x\n",
    "data.ready.tr$gzm_x=data.ready.tr$gyro_z_x*data.ready.tr$second_x\n",
    "data.ready.tr$speedmm_x=data.ready.tr$Speed_x*data.ready.tr$second_x"
   ]
  },
  {
   "cell_type": "code",
   "execution_count": null,
   "metadata": {},
   "outputs": [],
   "source": []
  },
  {
   "cell_type": "code",
   "execution_count": 17,
   "metadata": {},
   "outputs": [
    {
     "name": "stdout",
     "output_type": "stream",
     "text": [
      "'data.frame':\t4000 obs. of  38 variables:\n",
      " $ Accuracy_x      : num  4029 6805 4800 2446 3702 ...\n",
      " $ Bearing_x       : num  117880 276151 176789 92839 131145 ...\n",
      " $ acceleration_x_x: num  81.4 1180.1 106.7 317.3 738.4 ...\n",
      " $ acceleration_y_x: num  6912 12218 12053 5924 8469 ...\n",
      " $ acceleration_z_x: num  -127 1805 641 1089 5951 ...\n",
      " $ gyro_x_x        : num  2.105 1.425 5.177 5.516 0.647 ...\n",
      " $ gyro_y_x        : num  -2.95 4.23 56.64 -5.67 4.93 ...\n",
      " $ gyro_z_x        : num  -0.0511 -2.0028 2.364 2.0613 2.8667 ...\n",
      " $ second_x        : num  358922 794255 887235 197418 543144 ...\n",
      " $ Speed_x         : num  9829 8878 6956 2113 6862 ...\n",
      " $ Accuracy_y      : num  2773 4914 4797 2280 4021 ...\n",
      " $ Bearing_y       : num  140067 278460 97170 61182 69077 ...\n",
      " $ acceleration_x_y: num  19.2 1194.6 168.9 323.3 825.6 ...\n",
      " $ acceleration_y_y: num  6929 12239 12058 5925 8486 ...\n",
      " $ acceleration_z_y: num  -91.7 1837.2 628.8 1073.5 5952.6 ...\n",
      " $ gyro_x_y        : num  2.408 2.271 1.26 2.768 0.755 ...\n",
      " $ gyro_y_y        : num  -0.209 2.962 1.076 0.283 1.62 ...\n",
      " $ gyro_z_y        : num  -0.198 -1.334 0.373 0.798 0.692 ...\n",
      " $ second_y        : num  391050 794430 903435 195597 542306 ...\n",
      " $ Speed_y         : num  10217 6731 4176 0 7207 ...\n",
      " $ Freq            : int  505521 1587600 1512900 381924 1062961 562500 492804 139876 4813636 241081 ...\n",
      " $ x.woe.tr        : num  -84540 -246003 -208978 8387 88351 ...\n",
      " $ x.woe.tr.1      : num  -101039 -31302 -163786 -7780 240078 ...\n",
      " $ x.woe.tr.2      : num  -49994 210886 535387 -44765 90453 ...\n",
      " $ x.woe.tr.3      : num  12724 27549 -129572 98082 18839 ...\n",
      " $ x.woe.tr.4      : num  -96027 -229349 -237373 4478 87407 ...\n",
      " $ x.woe.tr.5      : num  -134348 -62939 -116884 -15644 248277 ...\n",
      " $ x.woe.tr.6      : num  49817 292721 487014 -64344 75387 ...\n",
      " $ x.woe.tr.7      : num  -3064 2379 38306 120017 8360 ...\n",
      " $ x.woe.tr.8      : num  -73660 425389 475188 -89967 165967 ...\n",
      " $ label           : int  1 1 1 1 1 1 1 1 1 1 ...\n",
      " $ axm_x           : num  2.92e+07 9.37e+08 9.46e+07 6.26e+07 4.01e+08 ...\n",
      " $ aym_x           : num  2.48e+09 9.70e+09 1.07e+10 1.17e+09 4.60e+09 ...\n",
      " $ azm_x           : num  -4.57e+07 1.43e+09 5.69e+08 2.15e+08 3.23e+09 ...\n",
      " $ gxm_x           : num  755635 1131931 4592827 1089047 351366 ...\n",
      " $ gym_x           : num  -1058531 3356727 50252169 -1119023 2679453 ...\n",
      " $ gzm_x           : num  -18335 -1590711 2097466 406945 1557006 ...\n",
      " $ speedmm_x       : num  3.53e+09 7.05e+09 6.17e+09 4.17e+08 3.73e+09 ...\n"
     ]
    }
   ],
   "source": [
    "data.ready.ts$axm_x=data.ready.ts$acceleration_x_x*data.ready.ts$second_x\n",
    "data.ready.ts$aym_x=data.ready.ts$acceleration_y_x*data.ready.ts$second_x\n",
    "data.ready.ts$azm_x=data.ready.ts$acceleration_z_x*data.ready.ts$second_x\n",
    "data.ready.ts$gxm_x=data.ready.ts$gyro_x_x*data.ready.ts$second_x\n",
    "data.ready.ts$gym_x=data.ready.ts$gyro_y_x*data.ready.ts$second_x\n",
    "data.ready.ts$gzm_x=data.ready.ts$gyro_z_x*data.ready.ts$second_x\n",
    "data.ready.ts$speedmm_x=data.ready.ts$Speed_x*data.ready.ts$second_x\n",
    "str(data.ready.ts)"
   ]
  },
  {
   "cell_type": "markdown",
   "metadata": {},
   "source": [
    "### 3. Modeling"
   ]
  },
  {
   "cell_type": "code",
   "execution_count": 18,
   "metadata": {},
   "outputs": [
    {
     "data": {
      "text/plain": [
       "Confusion Matrix and Statistics\n",
       "\n",
       "          Reference\n",
       "Prediction    0    1\n",
       "         0 1925  349\n",
       "         1 1056  670\n",
       "                                          \n",
       "               Accuracy : 0.6488          \n",
       "                 95% CI : (0.6337, 0.6636)\n",
       "    No Information Rate : 0.7452          \n",
       "    P-Value [Acc > NIR] : 1               \n",
       "                                          \n",
       "                  Kappa : 0.2469          \n",
       "                                          \n",
       " Mcnemar's Test P-Value : <2e-16          \n",
       "                                          \n",
       "            Sensitivity : 0.6575          \n",
       "            Specificity : 0.6458          \n",
       "         Pos Pred Value : 0.3882          \n",
       "         Neg Pred Value : 0.8465          \n",
       "             Prevalence : 0.2547          \n",
       "         Detection Rate : 0.1675          \n",
       "   Detection Prevalence : 0.4315          \n",
       "      Balanced Accuracy : 0.6516          \n",
       "                                          \n",
       "       'Positive' Class : 1               \n",
       "                                          "
      ]
     },
     "metadata": {},
     "output_type": "display_data"
    }
   ],
   "source": [
    "#-----------------------UnderSampling Random Forest--------------------------#\n",
    "trainctrl= trainControl(method = \"cv\",number = 5, \n",
    "                        sampling = \"down\")\n",
    "set.seed(1001)\n",
    "\n",
    "rf.tree=train(as.factor(label)~., data=data.ready.tr,\n",
    "              method='rf', trControl=trainctrl)\n",
    "#prediksi.forest=predict(rf.tree,data.ready.ts) #tidak masalah include y pd data1, krn ia hny akan mencari variabel yg cocok saja\n",
    "#confusionMatrix(prediksi.forest, as.factor(data.ready.ts$Y),positive = \"0\")\n",
    "\n",
    "prob_rf2<-predict(rf.tree, newdata=data.ready.ts, type=\"prob\")[,2]\n",
    "pred_rf2<-ifelse(prob_rf2<0.5,0,1)\n",
    "\n",
    "caret::confusionMatrix(as.factor(pred_rf2), as.factor(data.ready.ts$label),positive='1')\n"
   ]
  },
  {
   "cell_type": "code",
   "execution_count": null,
   "metadata": {},
   "outputs": [],
   "source": []
  },
  {
   "cell_type": "code",
   "execution_count": 19,
   "metadata": {},
   "outputs": [
    {
     "data": {
      "text/plain": [
       "Confusion Matrix and Statistics\n",
       "\n",
       "          Reference\n",
       "Prediction    0    1\n",
       "         0 1933  363\n",
       "         1 1048  656\n",
       "                                          \n",
       "               Accuracy : 0.6472          \n",
       "                 95% CI : (0.6322, 0.6621)\n",
       "    No Information Rate : 0.7452          \n",
       "    P-Value [Acc > NIR] : 1               \n",
       "                                          \n",
       "                  Kappa : 0.2393          \n",
       "                                          \n",
       " Mcnemar's Test P-Value : <2e-16          \n",
       "                                          \n",
       "            Sensitivity : 0.6438          \n",
       "            Specificity : 0.6484          \n",
       "         Pos Pred Value : 0.3850          \n",
       "         Neg Pred Value : 0.8419          \n",
       "             Prevalence : 0.2547          \n",
       "         Detection Rate : 0.1640          \n",
       "   Detection Prevalence : 0.4260          \n",
       "      Balanced Accuracy : 0.6461          \n",
       "                                          \n",
       "       'Positive' Class : 1               \n",
       "                                          "
      ]
     },
     "metadata": {},
     "output_type": "display_data"
    }
   ],
   "source": [
    "#----------------------------------XgbTree-----------------#\n",
    "trainctrl= trainControl(method = \"cv\",number = 5, \n",
    "                        sampling = \"down\")\n",
    "set.seed(1001)\n",
    "#install.packages('bnclassify')\n",
    "c50=train(as.factor(label)~., data=data.ready.tr,\n",
    "          method='xgbTree', trControl=trainctrl)\n",
    "#prediksi.forest=predict(rf.tree,data.ready.ts) #tidak masalah include y pd data1, krn ia hny akan mencari variabel yg cocok saja\n",
    "#confusionMatrix(prediksi.forest, as.factor(data.ready.ts$Y),positive = \"0\")\n",
    "\n",
    "prob_c50<-predict(c50, newdata=data.ready.ts, type=\"prob\")[,2]\n",
    "pred_c50<-ifelse(prob_c50<0.5,0,1)\n",
    "\n",
    "caret::confusionMatrix(as.factor(pred_c50), as.factor(data.ready.ts$label),\n",
    "                       positive='1')"
   ]
  },
  {
   "cell_type": "code",
   "execution_count": null,
   "metadata": {},
   "outputs": [],
   "source": []
  },
  {
   "cell_type": "code",
   "execution_count": 50,
   "metadata": {},
   "outputs": [
    {
     "data": {
      "text/plain": [
       "Confusion Matrix and Statistics\n",
       "\n",
       "          Reference\n",
       "Prediction    0    1\n",
       "         0 1969  377\n",
       "         1 1012  642\n",
       "                                          \n",
       "               Accuracy : 0.6528          \n",
       "                 95% CI : (0.6378, 0.6675)\n",
       "    No Information Rate : 0.7452          \n",
       "    P-Value [Acc > NIR] : 1               \n",
       "                                          \n",
       "                  Kappa : 0.2411          \n",
       "                                          \n",
       " Mcnemar's Test P-Value : <2e-16          \n",
       "                                          \n",
       "            Sensitivity : 0.6300          \n",
       "            Specificity : 0.6605          \n",
       "         Pos Pred Value : 0.3881          \n",
       "         Neg Pred Value : 0.8393          \n",
       "             Prevalence : 0.2547          \n",
       "         Detection Rate : 0.1605          \n",
       "   Detection Prevalence : 0.4135          \n",
       "      Balanced Accuracy : 0.6453          \n",
       "                                          \n",
       "       'Positive' Class : 1               \n",
       "                                          "
      ]
     },
     "metadata": {},
     "output_type": "display_data"
    }
   ],
   "source": [
    "#----------------------------------GBM-----------------------------------#\n",
    "trainctrl= trainControl(method = \"cv\",number = 5)\n",
    "model_weights <- ifelse(data.ready.tr$label == 0,\n",
    "                        (1/table(data.ready.tr$label)[1]) * 0.5,\n",
    "                        (1/table(data.ready.tr$label)[2]) * 0.5)\n",
    "\n",
    "set.seed(1001)\n",
    "gbm=train(as.factor(label)~., data=data.ready.tr,\n",
    "          method='gbm', trControl=trainctrl,verbose = FALSE,\n",
    "                       weights = model_weights)\n",
    "#prediksi.forest=predict(rf.tree,data.ready.ts) #tidak masalah include y pd data1, krn ia hny akan mencari variabel yg cocok saja\n",
    "#confusionMatrix(prediksi.forest, as.factor(data.ready.ts$Y),positive = \"0\")\n",
    "\n",
    "prob_gbm<-predict(gbm, newdata=data.ready.ts, type=\"prob\")[,2]\n",
    "pred_gbm<-ifelse(prob_gbm<0.5,0,1)\n",
    "\n",
    "caret::confusionMatrix(as.factor(pred_gbm), as.factor(data.ready.ts$label),\n",
    "                       positive='1')\n",
    "#63.44"
   ]
  },
  {
   "cell_type": "markdown",
   "metadata": {},
   "source": [
    "### 4. Ensemble the model with Mean of Prediction Probability"
   ]
  },
  {
   "cell_type": "code",
   "execution_count": 20,
   "metadata": {},
   "outputs": [
    {
     "data": {
      "text/plain": [
       "Confusion Matrix and Statistics\n",
       "\n",
       "          Reference\n",
       "Prediction    0    1\n",
       "         0 1901  337\n",
       "         1 1080  682\n",
       "                                          \n",
       "               Accuracy : 0.6458          \n",
       "                 95% CI : (0.6307, 0.6606)\n",
       "    No Information Rate : 0.7452          \n",
       "    P-Value [Acc > NIR] : 1               \n",
       "                                          \n",
       "                  Kappa : 0.2476          \n",
       "                                          \n",
       " Mcnemar's Test P-Value : <2e-16          \n",
       "                                          \n",
       "            Sensitivity : 0.6693          \n",
       "            Specificity : 0.6377          \n",
       "         Pos Pred Value : 0.3871          \n",
       "         Neg Pred Value : 0.8494          \n",
       "             Prevalence : 0.2547          \n",
       "         Detection Rate : 0.1705          \n",
       "   Detection Prevalence : 0.4405          \n",
       "      Balanced Accuracy : 0.6535          \n",
       "                                          \n",
       "       'Positive' Class : 1               \n",
       "                                          "
      ]
     },
     "metadata": {},
     "output_type": "display_data"
    }
   ],
   "source": [
    "#majority vote of ensemble model\n",
    "#menggunakan rataan dg bobot berbeda tiap model\n",
    "pred_all2=cbind.data.frame(prob_rf2, prob_c50)\n",
    "pred_all2$mean=rowMeans(pred_all2)\n",
    "pred_all2$fix=ifelse(pred_all2$mean>0.49,1,0)\n",
    "caret::confusionMatrix(as.factor(pred_all2$fix), as.factor(data.ready.ts$label),\n",
    "                       positive='1')"
   ]
  },
  {
   "cell_type": "code",
   "execution_count": null,
   "metadata": {},
   "outputs": [],
   "source": []
  },
  {
   "cell_type": "code",
   "execution_count": 21,
   "metadata": {},
   "outputs": [
    {
     "data": {
      "text/plain": [
       "Confusion Matrix and Statistics\n",
       "\n",
       "          Reference\n",
       "Prediction    0    1\n",
       "         0 2127  416\n",
       "         1  854  603\n",
       "                                          \n",
       "               Accuracy : 0.6825          \n",
       "                 95% CI : (0.6678, 0.6969)\n",
       "    No Information Rate : 0.7452          \n",
       "    P-Value [Acc > NIR] : 1               \n",
       "                                          \n",
       "                  Kappa : 0.2674          \n",
       "                                          \n",
       " Mcnemar's Test P-Value : <2e-16          \n",
       "                                          \n",
       "            Sensitivity : 0.5918          \n",
       "            Specificity : 0.7135          \n",
       "         Pos Pred Value : 0.4139          \n",
       "         Neg Pred Value : 0.8364          \n",
       "             Prevalence : 0.2547          \n",
       "         Detection Rate : 0.1507          \n",
       "   Detection Prevalence : 0.3643          \n",
       "      Balanced Accuracy : 0.6526          \n",
       "                                          \n",
       "       'Positive' Class : 1               \n",
       "                                          "
      ]
     },
     "metadata": {},
     "output_type": "display_data"
    }
   ],
   "source": [
    "#majority vote of ensemble model\n",
    "#menggunakan rataan dg bobot berbeda tiap model\n",
    "pred_all2=cbind.data.frame(pred_rf2, pred_c50)\n",
    "pred_all2$sum=rowSums(pred_all2)\n",
    "pred_all2$fix=ifelse(pred_all2$sum>1,1,0)\n",
    "caret::confusionMatrix(as.factor(pred_all2$fix), as.factor(data.ready.ts$label),\n",
    "                       positive='1')"
   ]
  },
  {
   "cell_type": "code",
   "execution_count": null,
   "metadata": {},
   "outputs": [],
   "source": []
  }
 ],
 "metadata": {
  "kernelspec": {
   "display_name": "R",
   "language": "R",
   "name": "ir"
  },
  "language_info": {
   "codemirror_mode": "r",
   "file_extension": ".r",
   "mimetype": "text/x-r-source",
   "name": "R",
   "pygments_lexer": "r",
   "version": "3.5.1"
  }
 },
 "nbformat": 4,
 "nbformat_minor": 2
}
